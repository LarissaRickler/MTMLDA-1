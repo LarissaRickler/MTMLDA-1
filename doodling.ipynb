{
 "cells": [
  {
   "cell_type": "code",
   "execution_count": 2,
   "metadata": {},
   "outputs": [],
   "source": [
    "import umbridge"
   ]
  },
  {
   "cell_type": "code",
   "execution_count": null,
   "metadata": {},
   "outputs": [],
   "source": [
    "models = [\n",
    "    umbridge.HTTPModel(\"http://localhost:4243\", \"posterior_fine\"),\n",
    "    umbridge.HTTPModel(\"http://localhost:4243\", \"posterior_intermediate\"),\n",
    "    umbridge.HTTPModel(\"http://localhost:4243\", \"posterior_coarse\"),\n",
    "]"
   ]
  },
  {
   "cell_type": "code",
   "execution_count": 15,
   "metadata": {},
   "outputs": [],
   "source": [
    "models = [\n",
    "    umbridge.HTTPModel(\"http://localhost:4243\", \"parameter_to_observable_map_fine\"),\n",
    "    umbridge.HTTPModel(\"http://localhost:4243\", \"parameter_to_observable_map_intermediate\"),\n",
    "    umbridge.HTTPModel(\"http://localhost:4243\", \"parameter_to_observable_map_coarse\"),\n",
    "]\n",
    "\n",
    "models[0].get_input_sizes()\n",
    "models[0].get_output_sizes()\n",
    "\n",
    "test_parameters = [[1, 2, 3, 4]]\n",
    "model_output = models[2](test_parameters)"
   ]
  },
  {
   "cell_type": "code",
   "execution_count": null,
   "metadata": {},
   "outputs": [],
   "source": []
  }
 ],
 "metadata": {
  "kernelspec": {
   "display_name": "mlda",
   "language": "python",
   "name": "python3"
  },
  "language_info": {
   "codemirror_mode": {
    "name": "ipython",
    "version": 3
   },
   "file_extension": ".py",
   "mimetype": "text/x-python",
   "name": "python",
   "nbconvert_exporter": "python",
   "pygments_lexer": "ipython3",
   "version": "3.11.6"
  }
 },
 "nbformat": 4,
 "nbformat_minor": 2
}
