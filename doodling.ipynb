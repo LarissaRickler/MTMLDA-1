{
 "cells": [
  {
   "cell_type": "code",
   "execution_count": null,
   "metadata": {},
   "outputs": [],
   "source": [
    "import os\n",
    "import numpy as np\n",
    "from pathlib import Path\n",
    "\n",
    "import umbridge"
   ]
  },
  {
   "cell_type": "code",
   "execution_count": null,
   "metadata": {},
   "outputs": [],
   "source": [
    "num_parameters = 4\n",
    "parameter_ranges = [[500, 5000],\n",
    "                    [1e5, 1e6],\n",
    "                    [5, 50],\n",
    "                    [5, 50]]\n",
    "\n",
    "rng = np.random.default_rng(0)\n",
    "initial_state = np.array([rng.uniform(low=parameter_ranges[i][0], high=parameter_ranges[i][1])\n",
    "                          for i in range(num_parameters)])\n",
    "print(initial_state)"
   ]
  },
  {
   "cell_type": "code",
   "execution_count": null,
   "metadata": {},
   "outputs": [],
   "source": [
    "file = Path(\"results\") / Path(\"test.npy\")\n",
    "os.makedirs(file.parent, exist_ok=True)\n",
    "np.save(file, initial_state)"
   ]
  },
  {
   "cell_type": "code",
   "execution_count": null,
   "metadata": {},
   "outputs": [],
   "source": [
    "print(np.exp(-np.inf))"
   ]
  },
  {
   "cell_type": "code",
   "execution_count": 15,
   "metadata": {},
   "outputs": [],
   "source": [
    "models = [\n",
    "    umbridge.HTTPModel(\"http://localhost:4243\", \"parameter_to_observable_map_fine\"),\n",
    "    umbridge.HTTPModel(\"http://localhost:4243\", \"parameter_to_observable_map_intermediate\"),\n",
    "    umbridge.HTTPModel(\"http://localhost:4243\", \"parameter_to_observable_map_coarse\"),\n",
    "]\n",
    "\n",
    "models[0].get_input_sizes()\n",
    "models[0].get_output_sizes()\n",
    "\n",
    "test_parameters = [[1, 2, 3, 4]]\n",
    "model_output = models[2](test_parameters)"
   ]
  }
 ],
 "metadata": {
  "kernelspec": {
   "display_name": "mlda",
   "language": "python",
   "name": "python3"
  },
  "language_info": {
   "codemirror_mode": {
    "name": "ipython",
    "version": 3
   },
   "file_extension": ".py",
   "mimetype": "text/x-python",
   "name": "python",
   "nbconvert_exporter": "python",
   "pygments_lexer": "ipython3",
   "version": "3.11.6"
  }
 },
 "nbformat": 4,
 "nbformat_minor": 2
}
