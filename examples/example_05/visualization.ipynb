{
 "cells": [
  {
   "cell_type": "code",
   "execution_count": null,
   "metadata": {},
   "outputs": [],
   "source": [
    "import numpy as np\n",
    "import matplotlib.pyplot as plt\n",
    "import seaborn as sns\n",
    "\n",
    "sns.set_theme(style=\"ticks\")"
   ]
  },
  {
   "cell_type": "code",
   "execution_count": null,
   "metadata": {},
   "outputs": [],
   "source": [
    "precision_l0 = 0.1*np.identity(2)\n",
    "precision_l1 = 0.3*np.identity(2)\n",
    "precision_l2 = 1.0*np.identity(2)\n",
    "\n",
    "x_value = np.linspace(-2, 2, 1000)\n",
    "y_value = np.linspace(-2, 2, 1000)\n",
    "x_value, y_value = np.meshgrid(x_value, y_value)"
   ]
  },
  {
   "cell_type": "code",
   "execution_count": null,
   "metadata": {},
   "outputs": [],
   "source": [
    "def evaluate_density(x_value, y_value, precision):\n",
    "    data = np.array([0, 0])\n",
    "    transformed_parameters = np.zeros((2,) + x_value.shape)\n",
    "    transformed_parameters[0,...] = np.sqrt(20 * (x_value ** 2 - 2 * y_value) ** 2)\n",
    "    transformed_parameters[1,...] = np.sqrt(2 * (y_value - 0.25) ** 4)\n",
    "    misfit = data.reshape((2,1,1)) - transformed_parameters\n",
    "    logp = -0.5 * np.einsum('ijk,ijk->jk', misfit, np.einsum('ij,jkl->ikl', precision, misfit))\n",
    "    probability = np.exp(logp)\n",
    "    probability[probability < 1e-3] = np.nan\n",
    "    return probability\n",
    "\n",
    "def plot_density(x_value, y_value, density, filename=None):\n",
    "    fig, ax = plt.subplots(figsize=(4, 4), layout=\"constrained\")\n",
    "    ax.contourf(x_value, y_value, density, cmap=\"Blues\", levels=50)\n",
    "    ax.set_xlabel(r\"$\\theta_1$\")\n",
    "    ax.set_ylabel(r\"$\\theta_2$\")\n",
    "    ax.set_xlim(-2, 2)\n",
    "    ax.set_ylim(-1, 2)\n",
    "    ax.set_xticks((-2, -1, 0, 1, 2))\n",
    "    ax.set_yticks((-1, 0, 1, 2))\n",
    "\n",
    "    if filename is not None:\n",
    "        fig.savefig(filename, bbox_inches=\"tight\")\n",
    "    plt.show()"
   ]
  },
  {
   "cell_type": "code",
   "execution_count": null,
   "metadata": {},
   "outputs": [],
   "source": [
    "density_l0 = evaluate_density(x_value, y_value, precision_l0)\n",
    "density_l1 = evaluate_density(x_value, y_value, precision_l1)\n",
    "density_l2 = evaluate_density(x_value, y_value, precision_l2)\n",
    "\n",
    "plot_density(x_value, y_value, density_l0, \"banana_density_l1.pdf\")\n",
    "plot_density(x_value, y_value, density_l1, \"banana_density_l2.pdf\")\n",
    "plot_density(x_value, y_value, density_l2, \"banana_density_l3.pdf\")"
   ]
  }
 ],
 "metadata": {
  "kernelspec": {
   "display_name": "mtmlda",
   "language": "python",
   "name": "python3"
  },
  "language_info": {
   "codemirror_mode": {
    "name": "ipython",
    "version": 3
   },
   "file_extension": ".py",
   "mimetype": "text/x-python",
   "name": "python",
   "nbconvert_exporter": "python",
   "pygments_lexer": "ipython3",
   "version": "3.9.18"
  }
 },
 "nbformat": 4,
 "nbformat_minor": 2
}
