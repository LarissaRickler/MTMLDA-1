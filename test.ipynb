{
 "cells": [
  {
   "cell_type": "code",
   "execution_count": null,
   "metadata": {},
   "outputs": [],
   "source": [
    "import numpy as np\n",
    "import umbridge\n",
    "\n",
    "from proposals.proposals import RandomWalkProposal, RandomWalkProposalSettings\n",
    "from src.mtmlda.mlmcmc import MLAcceptRateEstimator, MLAcceptRateEstimatorSettings\n",
    "from src.mtmlda.sampler import MTMLDASampler, SamplerSetupSettings, SamplerRunSettings"
   ]
  },
  {
   "cell_type": "code",
   "execution_count": null,
   "metadata": {},
   "outputs": [],
   "source": [
    "proposal_settings = RandomWalkProposalSettings(\n",
    "    step_width=0.01,\n",
    "    covariance=np.identity(2),\n",
    "    rng_seed=0\n",
    ")\n",
    "\n",
    "accept_rate_settings = MLAcceptRateEstimatorSettings(\n",
    "    initial_guess=[0.5, 0.7, 0.8],\n",
    "    update_parameter=0.01\n",
    ")\n",
    "\n",
    "sampler_setup_settings = SamplerSetupSettings(\n",
    "    num_levels=3,\n",
    "    subsampling_rates=[5, 3, -1],\n",
    "    rng_seed=0\n",
    ")\n",
    "\n",
    "sampler_run_settings = SamplerRunSettings(\n",
    "    num_samples=5,\n",
    "    initial_state=np.array([4, 4]),\n",
    "    num_threads=8,\n",
    "    rng_seed=0\n",
    ")\n",
    "\n",
    "models = [\n",
    "    umbridge.HTTPModel(\"http://localhost:4243\", \"posterior_coarse\"),\n",
    "    umbridge.HTTPModel(\"http://localhost:4243\", \"posterior_intermediate\"),\n",
    "    umbridge.HTTPModel(\"http://localhost:4243\", \"posterior_fine\")\n",
    "]"
   ]
  },
  {
   "cell_type": "code",
   "execution_count": null,
   "metadata": {},
   "outputs": [],
   "source": [
    "ground_proposal = RandomWalkProposal(\n",
    "    proposal_settings.step_width,\n",
    "    proposal_settings.covariance,\n",
    "    proposal_settings.rng_seed,\n",
    ")\n",
    "\n",
    "accept_rate_estimator = MLAcceptRateEstimator(\n",
    "    accept_rate_settings.initial_guess,\n",
    "    accept_rate_settings.update_parameter,\n",
    ")"
   ]
  },
  {
   "cell_type": "code",
   "execution_count": null,
   "metadata": {},
   "outputs": [],
   "source": [
    "sampler = MTMLDASampler(sampler_setup_settings.num_levels,\n",
    "                        sampler_setup_settings.subsampling_rates,\n",
    "                        sampler_setup_settings.rng_seed,\n",
    "                        models,\n",
    "                        accept_rate_estimator,\n",
    "                        ground_proposal)\n",
    "mcmc_chain = sampler.run(sampler_run_settings.num_samples,\n",
    "                         sampler_run_settings.initial_state,\n",
    "                         sampler_run_settings.num_threads,\n",
    "                         sampler_run_settings.rng_seed)"
   ]
  },
  {
   "cell_type": "code",
   "execution_count": null,
   "metadata": {},
   "outputs": [],
   "source": []
  }
 ],
 "metadata": {
  "kernelspec": {
   "display_name": "mlda",
   "language": "python",
   "name": "python3"
  },
  "language_info": {
   "codemirror_mode": {
    "name": "ipython",
    "version": 3
   },
   "file_extension": ".py",
   "mimetype": "text/x-python",
   "name": "python",
   "nbconvert_exporter": "python",
   "pygments_lexer": "ipython3",
   "version": "3.11.6"
  }
 },
 "nbformat": 4,
 "nbformat_minor": 2
}
