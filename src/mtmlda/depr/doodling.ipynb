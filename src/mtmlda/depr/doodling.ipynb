{
 "cells": [
  {
   "cell_type": "code",
   "execution_count": 1,
   "metadata": {},
   "outputs": [],
   "source": [
    "import numpy as np\n",
    "import umbridge"
   ]
  },
  {
   "cell_type": "code",
   "execution_count": null,
   "metadata": {},
   "outputs": [],
   "source": [
    "models = [\n",
    "    umbridge.HTTPModel(\"http://localhost:4243\", \"posterior_fine\"),\n",
    "    umbridge.HTTPModel(\"http://localhost:4243\", \"posterior_intermediate\"),\n",
    "    umbridge.HTTPModel(\"http://localhost:4243\", \"posterior_coarse\"),\n",
    "]\n",
    "\n",
    "model = models[2]\n",
    "print(model.get_input_sizes())\n",
    "print(model.get_output_sizes())\n",
    "\n",
    "test_parameters = [[1, 1]]\n",
    "model_output = model(test_parameters)"
   ]
  },
  {
   "cell_type": "code",
   "execution_count": 3,
   "metadata": {},
   "outputs": [
    {
     "data": {
      "text/plain": [
       "True"
      ]
     },
     "execution_count": 3,
     "metadata": {},
     "output_type": "execute_result"
    }
   ],
   "source": [
    "from models import posterior_pto_wrapper as wrapper\n",
    "\n",
    "rng = np.random.default_rng(0)\n",
    "noise = np.random.normal(0, 1, size=100)\n",
    "\n",
    "parameter_ranges = np.array([[500, 5000], [1e5, 1e6], [5, 50], [5, 50]])\n",
    "test_parameter_1 = np.array([1000, 5e5, 32, 17])\n",
    "test_parameter_2 = np.array([10000, 5e5, 32, 17])\n",
    "\n",
    "data = np.zeros((100,))\n",
    "data[0:25] = test_parameter_1[0] * np.ones((25,))\n",
    "data[25:50] = test_parameter_1[1] * np.ones((25,))\n",
    "data[50:75] = test_parameter_1[2] * np.ones((25,))\n",
    "data[75:100] = test_parameter_1[3] * np.ones((25,))\n",
    "data += noise\n",
    "covariance = np.eye(100)\n",
    "\n",
    "models = [\n",
    "    umbridge.HTTPModel(\"http://localhost:4243\", \"parameter_to_observable_map_fine\"),\n",
    "    umbridge.HTTPModel(\"http://localhost:4243\", \"parameter_to_observable_map_intermediate\"),\n",
    "    umbridge.HTTPModel(\"http://localhost:4243\", \"parameter_to_observable_map_coarse\"),\n",
    "]\n",
    "model = models[2]\n",
    "\n",
    "log_likelihood = wrapper.GaussianLogLikelihood(model, data, covariance)\n",
    "log_prior = wrapper.UninformLogPrior(parameter_ranges)\n",
    "log_posterior = wrapper.LogPosterior(log_prior, log_likelihood)\n",
    "output = log_posterior(test_parameter_2)\n",
    "np.isneginf(output[0][0])"
   ]
  }
 ],
 "metadata": {
  "kernelspec": {
   "display_name": "mlda",
   "language": "python",
   "name": "python3"
  },
  "language_info": {
   "codemirror_mode": {
    "name": "ipython",
    "version": 3
   },
   "file_extension": ".py",
   "mimetype": "text/x-python",
   "name": "python",
   "nbconvert_exporter": "python",
   "pygments_lexer": "ipython3",
   "version": "3.11.6"
  }
 },
 "nbformat": 4,
 "nbformat_minor": 2
}
