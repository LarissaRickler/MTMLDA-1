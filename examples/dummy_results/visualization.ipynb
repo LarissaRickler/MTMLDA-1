{
 "cells": [
  {
   "cell_type": "code",
   "execution_count": 1,
   "metadata": {},
   "outputs": [],
   "source": [
    "import numpy as np\n",
    "import matplotlib.pyplot as plt\n",
    "import seaborn as sns\n",
    "\n",
    "sns.set_theme(style=\"ticks\")"
   ]
  },
  {
   "cell_type": "code",
   "execution_count": null,
   "metadata": {},
   "outputs": [],
   "source": [
    "precision_l0 = 0.01*np.identity(2)\n",
    "precision_l1 = 0.1*np.identity(2)\n",
    "precision_l2 = 1.0*np.identity(2)\n",
    "\n",
    "x_value = np.linspace(-2, 2, 1000)\n",
    "y_value = np.linspace(-2, 2, 1000)\n",
    "x_value, y_value = np.meshgrid(x_value, y_value)"
   ]
  },
  {
   "cell_type": "code",
   "execution_count": null,
   "metadata": {},
   "outputs": [],
   "source": [
    "def evaluate_density(x_value, y_value, precision):\n",
    "    data = np.array([0, 0])\n",
    "    transformed_parameters = np.zeros((2,) + x_value.shape)\n",
    "    transformed_parameters[0,...] = np.sqrt(20 * (x_value ** 2 - 2 * y_value) ** 2)\n",
    "    transformed_parameters[1,...] = np.sqrt(2 * (y_value - 0.25) ** 4)\n",
    "    misfit = data.reshape((2,1,1)) - transformed_parameters\n",
    "    logp = -0.5 * np.einsum('ijk,ijk->jk', misfit, np.einsum('ij,jkl->ikl', precision, misfit))\n",
    "    probability = np.exp(logp)\n",
    "    probability[probability < 1e-3] = np.nan\n",
    "    return probability\n",
    "\n",
    "def plot_density(x_value, y_value, density):\n",
    "    fig, ax = plt.subplots(figsize=(4, 4), layout=\"constrained\")\n",
    "    ax.contourf(x_value, y_value, density, cmap=\"Blues\", levels=50)\n",
    "    ax.set_xlabel(r\"$\\theta_1$\")\n",
    "    ax.set_ylabel(r\"$\\theta_2$\")\n",
    "    ax.set_xlim(-2, 2)\n",
    "    ax.set_ylim(-1, 2)\n",
    "    ax.set_xticks((-2, -1, 0, 1, 2))\n",
    "    ax.set_yticks((-1, 0, 1, 2))\n",
    "    plt.show()"
   ]
  },
  {
   "cell_type": "code",
   "execution_count": null,
   "metadata": {},
   "outputs": [],
   "source": [
    "density_l0 = evaluate_density(x_value, y_value, precision_l0)\n",
    "density_l1 = evaluate_density(x_value, y_value, precision_l1)\n",
    "density_l2 = evaluate_density(x_value, y_value, precision_l2)\n",
    "\n",
    "plot_density(x_value, y_value, density_l0)\n",
    "plot_density(x_value, y_value, density_l1)\n",
    "plot_density(x_value, y_value, density_l2)"
   ]
  },
  {
   "cell_type": "code",
   "execution_count": null,
   "metadata": {},
   "outputs": [],
   "source": [
    "#==================================================================================================="
   ]
  },
  {
   "cell_type": "code",
   "execution_count": 13,
   "metadata": {},
   "outputs": [],
   "source": [
    "num_threads = [1, 2, 4, 8, 12]\n",
    "run_times = [4176, 2684, 1770, 1256, 1106]\n",
    "speedup = [run_times[0]/time for time in run_times]\n",
    "perfect_speedup = [0,] + num_threads + [13,]"
   ]
  },
  {
   "cell_type": "code",
   "execution_count": 18,
   "metadata": {},
   "outputs": [
    {
     "data": {
      "image/png": "[encoded data removed]",
      "text/plain": [
       "<Figure size 400x400 with 1 Axes>"
      ]
     },
     "metadata": {},
     "output_type": "display_data"
    }
   ],
   "source": [
    "fig, ax = plt.subplots(figsize=(4, 4), layout=\"constrained\")\n",
    "ax.plot(num_threads, speedup, marker=\"o\", linestyle=\"\")\n",
    "ax.plot(perfect_speedup, perfect_speedup, linestyle=\"--\")\n",
    "ax.set_xlabel(r\"$N$\")\n",
    "ax.set_ylabel(r\"$t_0 / t_N$\")\n",
    "ax.set_xlim(0, 13)\n",
    "ax.set_ylim(0, 13)\n",
    "fig.savefig(\"speedup.pdf\")\n",
    "plt.show()"
   ]
  }
 ],
 "metadata": {
  "kernelspec": {
   "display_name": "mtmlda",
   "language": "python",
   "name": "python3"
  },
  "language_info": {
   "codemirror_mode": {
    "name": "ipython",
    "version": 3
   },
   "file_extension": ".py",
   "mimetype": "text/x-python",
   "name": "python",
   "nbconvert_exporter": "python",
   "pygments_lexer": "ipython3",
   "version": "3.9.18"
  }
 },
 "nbformat": 4,
 "nbformat_minor": 2
}
