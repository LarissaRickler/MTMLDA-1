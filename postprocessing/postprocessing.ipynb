{
 "cells": [
  {
   "cell_type": "code",
   "execution_count": null,
   "metadata": {},
   "outputs": [],
   "source": [
    "import os\n",
    "from pathlib import Path\n",
    "\n",
    "import arviz as az\n",
    "import numpy as np\n",
    "import pydot"
   ]
  },
  {
   "cell_type": "code",
   "execution_count": null,
   "metadata": {},
   "outputs": [],
   "source": [
    "result_dir = Path(\"../results\")\n",
    "npy_files = [file for file in os.listdir(result_dir)\n",
    "             if (os.path.isfile(result_dir / Path(file)) and file.endswith(\"npy\"))]\n",
    "chains = np.array([np.load(result_dir / Path(file)) for file in npy_files])\n",
    "chain_names = [Path(file).stem for file in npy_files]\n",
    "dataset = az.convert_to_dataset(chains)\n",
    "az.plot_trace(dataset)\n",
    "az.plot_pair(dataset)"
   ]
  },
  {
   "cell_type": "code",
   "execution_count": null,
   "metadata": {},
   "outputs": [],
   "source": [
    "result_dir = Path(\"../results/mltree\")\n",
    "dot_files = [result_dir/ Path(file) for file in os.listdir(result_dir)\n",
    "             if (os.path.isfile(result_dir / Path(file)) and file.endswith(\"dot\"))]\n",
    "\n",
    "for file in dot_files:\n",
    "    graph = pydot.graph_from_dot_file(file)[0]\n",
    "    graph.write_png(file.with_suffix(\".png\"))"
   ]
  }
 ],
 "metadata": {
  "kernelspec": {
   "display_name": "mlda",
   "language": "python",
   "name": "python3"
  },
  "language_info": {
   "codemirror_mode": {
    "name": "ipython",
    "version": 3
   },
   "file_extension": ".py",
   "mimetype": "text/x-python",
   "name": "python",
   "nbconvert_exporter": "python",
   "pygments_lexer": "ipython3",
   "version": "3.11.6"
  }
 },
 "nbformat": 4,
 "nbformat_minor": 2
}
