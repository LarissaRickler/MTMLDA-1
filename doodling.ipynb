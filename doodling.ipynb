{
 "cells": [
  {
   "cell_type": "code",
   "execution_count": 1,
   "metadata": {},
   "outputs": [],
   "source": [
    "import os\n",
    "import numpy as np\n",
    "from pathlib import Path"
   ]
  },
  {
   "cell_type": "code",
   "execution_count": 2,
   "metadata": {},
   "outputs": [
    {
     "name": "stdout",
     "output_type": "stream",
     "text": [
      "[3.36632759e+03 3.42808042e+05 6.84380858e+00 5.74374360e+00]\n"
     ]
    }
   ],
   "source": [
    "num_parameters = 4\n",
    "parameter_ranges = [[500, 5000],\n",
    "                    [1e5, 1e6],\n",
    "                    [5, 50],\n",
    "                    [5, 50]]\n",
    "\n",
    "rng = np.random.default_rng(0)\n",
    "initial_state = np.array([rng.uniform(low=parameter_ranges[i][0], high=parameter_ranges[i][1])\n",
    "                          for i in range(num_parameters)])\n",
    "print(initial_state)"
   ]
  },
  {
   "cell_type": "code",
   "execution_count": 5,
   "metadata": {},
   "outputs": [],
   "source": [
    "file = Path(\"results\") / Path(\"test.npy\")\n",
    "os.makedirs(file.parent, exist_ok=True)\n",
    "np.save(file, initial_state)"
   ]
  }
 ],
 "metadata": {
  "kernelspec": {
   "display_name": "mlda",
   "language": "python",
   "name": "python3"
  },
  "language_info": {
   "codemirror_mode": {
    "name": "ipython",
    "version": 3
   },
   "file_extension": ".py",
   "mimetype": "text/x-python",
   "name": "python",
   "nbconvert_exporter": "python",
   "pygments_lexer": "ipython3",
   "version": "3.11.6"
  }
 },
 "nbformat": 4,
 "nbformat_minor": 2
}
