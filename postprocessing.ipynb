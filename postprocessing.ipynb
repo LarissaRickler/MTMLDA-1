{
 "cells": [
  {
   "cell_type": "code",
   "execution_count": null,
   "metadata": {},
   "outputs": [],
   "source": [
    "import os\n",
    "from pathlib import Path\n",
    "\n",
    "import arviz as az\n",
    "import numpy as np\n",
    "\n",
    "result_directory = Path(\"src/mtmlda/depr/\")"
   ]
  },
  {
   "cell_type": "code",
   "execution_count": null,
   "metadata": {},
   "outputs": [],
   "source": [
    "npy_files = [file for file in os.listdir(result_directory)\n",
    "             if (os.path.isfile(result_directory / Path(file)) and file.endswith(\"npy\"))]\n",
    "chains = np.array([np.load(result_directory / Path(file)) for file in npy_files])\n",
    "chain_names = [Path(file).stem for file in npy_files]"
   ]
  },
  {
   "cell_type": "code",
   "execution_count": null,
   "metadata": {},
   "outputs": [],
   "source": [
    "dataset = az.convert_to_dataset(chains)\n",
    "az.plot_trace(dataset)\n",
    "az.plot_pair(dataset)"
   ]
  },
  {
   "cell_type": "code",
   "execution_count": null,
   "metadata": {},
   "outputs": [],
   "source": [
    "import subprocess\n",
    "import os\n",
    "from pathlib import Path\n",
    "from src.mtmlda.mltree import MTNode, MLTreeVisualizer\n",
    "import pydot\n",
    "\n",
    "result_dir = Path(\"visualization\")\n",
    "mltree_root = MTNode(\"a\")\n",
    "mltree_root.state = [1, 0]\n",
    "mltree_root.random_draw = 0.5\n",
    "mltree_root.level = 1\n",
    "mltree_root.subchain_index = 0\n",
    "os.makedirs(result_dir, exist_ok=True)\n",
    "\n",
    "visualizer = MLTreeVisualizer(result_dir)\n",
    "visualizer.export_to_dot(mltree_root)\n",
    "\n",
    "dot_files = [result_dir/ Path(file) for file in os.listdir(result_dir)\n",
    "             if (os.path.isfile(result_dir / Path(file)) and file.endswith(\"dot\"))]\n",
    "\n",
    "for file in dot_files:\n",
    "    graph = pydot.graph_from_dot_file(file)[0]\n",
    "    graph.write_png(file.with_suffix(\".png\"))"
   ]
  },
  {
   "cell_type": "code",
   "execution_count": 4,
   "metadata": {},
   "outputs": [
    {
     "name": "stdout",
     "output_type": "stream",
     "text": [
      "samples\n",
      "-------\n",
      "1       \n"
     ]
    }
   ],
   "source": [
    "from src.mtmlda.sampler import MTMLDALogger\n",
    "logger = MTMLDALogger(do_printing=True, logfile_path=None, write_mode=\"w\")\n",
    "logger.print_header()\n",
    "logger.print_statistics({\"samples\": 1})"
   ]
  }
 ],
 "metadata": {
  "kernelspec": {
   "display_name": "mlda",
   "language": "python",
   "name": "python3"
  },
  "language_info": {
   "codemirror_mode": {
    "name": "ipython",
    "version": 3
   },
   "file_extension": ".py",
   "mimetype": "text/x-python",
   "name": "python",
   "nbconvert_exporter": "python",
   "pygments_lexer": "ipython3",
   "version": "3.11.6"
  }
 },
 "nbformat": 4,
 "nbformat_minor": 2
}
